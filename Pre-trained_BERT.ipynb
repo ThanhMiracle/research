{
 "cells": [
  {
   "cell_type": "code",
   "execution_count": 215,
   "id": "346920ab-bea4-4d9f-8694-fe70a13258c4",
   "metadata": {},
   "outputs": [],
   "source": [
    "from transformers import BertModel, BertTokenizer\n",
    "from torch.utils.data import Dataset , DataLoader\n",
    "import torch\n",
    "from collections import Counter\n",
    "from bs4 import BeautifulSoup\n",
    "import re\n",
    "from torch.nn.utils.rnn import pad_sequence"
   ]
  },
  {
   "cell_type": "code",
   "execution_count": 103,
   "id": "63a63341-cd63-4433-945a-f640038fb7d7",
   "metadata": {},
   "outputs": [],
   "source": [
    "file_name = \"input.txt\"\n",
    "\n",
    "tokenizer = BertTokenizer.from_pretrained('bert-base-uncased')"
   ]
  },
  {
   "cell_type": "code",
   "execution_count": 104,
   "id": "8dd0e430-57de-474d-8936-e4ab18e7fe42",
   "metadata": {},
   "outputs": [],
   "source": [
    "def clean_text(text):\n",
    "    # Remove HTML tags\n",
    "    text = BeautifulSoup(text, \"html.parser\").get_text()\n",
    "    # Convert text to lowercase\n",
    "    text = text.lower()\n",
    "    # Remove punctuation and numbers\n",
    "    text = re.sub(r'[^a-z\\s]', ' ', text)\n",
    "    return text"
   ]
  },
  {
   "cell_type": "code",
   "execution_count": 105,
   "id": "3c271c59-c9ec-4538-ab46-3359626f65e8",
   "metadata": {},
   "outputs": [],
   "source": [
    "with open(file_name, 'r') as file:\n",
    "    data_str = file.read()\n",
    "    data_str = clean_text(data_str)"
   ]
  },
  {
   "cell_type": "code",
   "execution_count": 203,
   "id": "fdacd92e-b986-4fc4-b6d5-fdba20df8d94",
   "metadata": {},
   "outputs": [],
   "source": [
    "class MyDataset(Dataset):\n",
    "\n",
    "    def __init__(self, data_str, tokenizer, block_size):\n",
    "        self.tokenizer = tokenizer\n",
    "        self.block_size = block_size\n",
    "        self.data_str = data_str\n",
    "        self.split_str = self.data_str.split()\n",
    "    \n",
    "\n",
    "    def __getitem__(self, i):\n",
    "        input = self.tokenizer.encode(\" \".join(self.split_str[i:i+self.block_size]) , max_length=self.block_size, padding='max_length')\n",
    "        target = self.tokenizer.encode(\" \".join(self.split_str[i+1:i+1+self.block_size]), max_length=self.block_size, padding='max_length')\n",
    "        return input , target\n",
    "\n",
    "    def __len__(self):\n",
    "        return len(self.split_str) - self.block_size"
   ]
  },
  {
   "cell_type": "code",
   "execution_count": 204,
   "id": "f71ebeba-80f0-4902-aee5-dca2f9d73967",
   "metadata": {
    "scrolled": true
   },
   "outputs": [],
   "source": [
    "data = MyDataset(data_str, tokenizer , 5)"
   ]
  },
  {
   "cell_type": "code",
   "execution_count": 205,
   "id": "40a999a7-a6b0-4e2c-8a05-006692a22d0f",
   "metadata": {},
   "outputs": [],
   "source": [
    "input , target = data.__getitem__(1)"
   ]
  },
  {
   "cell_type": "code",
   "execution_count": 216,
   "id": "1f637b6d-a40a-4844-8dac-473b59e36d17",
   "metadata": {},
   "outputs": [],
   "source": [
    "def collate_fn(batch):\n",
    "    inputs, targets = zip(*batch)\n",
    "    inputs = [torch.tensor(x) for x in inputs]\n",
    "    targets = [torch.tensor(x) for x in targets]\n",
    "    inputs = pad_sequence(inputs, batch_first=True, padding_value=tokenizer.pad_token_id)\n",
    "    targets = pad_sequence(targets, batch_first=True, padding_value=tokenizer.pad_token_id)\n",
    "    return inputs, targets\n",
    "train_loader = DataLoader(data , batch_size = 100 , shuffle = True, collate_fn = collate_fn)"
   ]
  },
  {
   "cell_type": "code",
   "execution_count": 218,
   "id": "61f75776-d89f-4ffc-89f3-4f0f95457189",
   "metadata": {},
   "outputs": [
    {
     "name": "stdout",
     "output_type": "stream",
     "text": [
      "torch.Size([100, 11]) torch.Size([100, 11])\n"
     ]
    }
   ],
   "source": [
    "for input , target in train_loader:\n",
    "    print(input.shape , target.shape)\n",
    "    break"
   ]
  },
  {
   "cell_type": "code",
   "execution_count": null,
   "id": "a26effe5-69c8-441a-b12f-f3436929217a",
   "metadata": {},
   "outputs": [],
   "source": []
  }
 ],
 "metadata": {
  "kernelspec": {
   "display_name": "Python 3 (ipykernel)",
   "language": "python",
   "name": "python3"
  },
  "language_info": {
   "codemirror_mode": {
    "name": "ipython",
    "version": 3
   },
   "file_extension": ".py",
   "mimetype": "text/x-python",
   "name": "python",
   "nbconvert_exporter": "python",
   "pygments_lexer": "ipython3",
   "version": "3.11.7"
  }
 },
 "nbformat": 4,
 "nbformat_minor": 5
}
